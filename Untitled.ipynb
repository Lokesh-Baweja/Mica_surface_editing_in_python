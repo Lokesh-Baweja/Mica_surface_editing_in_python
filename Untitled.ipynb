{
 "cells": [
  {
   "cell_type": "markdown",
   "id": "ef64b911",
   "metadata": {},
   "source": [
    "#\n",
    "Introduction: This Python script is designed to simulate the replacement of potassium (K+) ions on the surface of Mica with hexahydrated magnesium (Mg2+)6(H2O) ions. The aim is to mimic experimental conditions for conducting adsorption studies of Nucleosomes using molecular dynamics simulations. In experimental setups, Mica is typically pre-equilibrated with a buffer containing magnesium. This script facilitates structural modifications to approximate such experimental conditions for MD simulations.\n",
    "\n",
    "Disclaimer:\n",
    "\n",
    "This script does not adhere to PEP8 guidelines. Below are structural snapshots for comparing the original model with the modified models.\n",
    "\n"
   ]
  },
  {
   "cell_type": "markdown",
   "id": "5faea944",
   "metadata": {},
   "source": [
    "![Mica_unmodified](mica_unmodified.png)\n",
    "\n",
    "After using the python program\n",
    "![Mica_unmodified](mica_modified.png)"
   ]
  },
  {
   "cell_type": "code",
   "execution_count": null,
   "id": "b3c99153",
   "metadata": {},
   "outputs": [],
   "source": []
  },
  {
   "cell_type": "code",
   "execution_count": null,
   "id": "8599e402",
   "metadata": {},
   "outputs": [],
   "source": []
  }
 ],
 "metadata": {
  "kernelspec": {
   "display_name": "Python 3 (ipykernel)",
   "language": "python",
   "name": "python3"
  },
  "language_info": {
   "codemirror_mode": {
    "name": "ipython",
    "version": 3
   },
   "file_extension": ".py",
   "mimetype": "text/x-python",
   "name": "python",
   "nbconvert_exporter": "python",
   "pygments_lexer": "ipython3",
   "version": "3.9.18"
  }
 },
 "nbformat": 4,
 "nbformat_minor": 5
}
